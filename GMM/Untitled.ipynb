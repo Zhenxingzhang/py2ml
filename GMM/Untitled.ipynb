{
 "cells": [
  {
   "cell_type": "markdown",
   "metadata": {},
   "source": [
    "Credit to the work in here: http://www.fundza.com/vectors/point2line/index.html"
   ]
  },
  {
   "cell_type": "code",
   "execution_count": null,
   "metadata": {
    "collapsed": true
   },
   "outputs": [],
   "source": [
    "import numpy as np\n",
    "import math\n",
    "import gmplot\n",
    "import matplotlib.pyplot as plt\n",
    "from mpl_toolkits.mplot3d import Axes3D\n",
    "%matplotlib inline \n",
    "\n",
    "def gaussian(x, mu, sig):\n",
    "    return 1./(math.sqrt(2.*math.pi)*sig)*np.exp(-np.power(x - mu, 2.) / (2 * np.power(sig, 2.)))\n",
    "\n",
    "def draw_plot(mean_x, mean_y, s_v):\n",
    "    \n",
    "    # display predicted scores by the model as a contour plot\n",
    "    x = np.linspace(0.0, 10.0)\n",
    "    y = np.linspace(0.0, 10.0)\n",
    "    X, Y = np.meshgrid(x, y)\n",
    "    XX = np.array([X.ravel(), Y.ravel()]).T\n",
    "\n",
    "    probs = np.zeros(2500)\n",
    "\n",
    "    idx=0\n",
    "    for point in XX:\n",
    "        r1 = math.sqrt((point[0]-mean_x)*(point[0]-mean_x)+(point[1]-mean_y)*(point[1]-mean_y))\n",
    "#         r2 = math.sqrt((point[0]-0.5)*(point[0]-0.5)+(point[1]-0.5)*(point[1]-0.5))\n",
    "#         probs[idx] = 0.5*gaussian(r1, 0, .2)+0.5*gaussian(r2, 0, .2)\n",
    "        probs[idx] = gaussian(r1, 0, s_v)\n",
    "\n",
    "        idx = idx+1\n",
    "\n",
    "    probs = probs.reshape((50, 50));\n",
    "\n",
    "    CS = plt.contour(X, Y, probs);\n",
    "    CB = plt.colorbar(CS, shrink=0.8, extend='both')\n",
    "\n",
    "    plt.title('PDF')\n",
    "    plt.axis('tight')\n",
    "    plt.show()"
   ]
  },
  {
   "cell_type": "code",
   "execution_count": 19,
   "metadata": {
    "collapsed": false
   },
   "outputs": [],
   "source": [
    "# fig = plt.figure()\n",
    "# ax = fig.add_subplot(111, projection='3d')\n",
    "\n",
    "# ax.plot_wireframe(X, Y, probs)\n",
    "# plt.show()"
   ]
  },
  {
   "cell_type": "markdown",
   "metadata": {},
   "source": [
    "# Hello Text in Juputer\n",
    "$$c = \\sqrt{a^2 + b^2}$$"
   ]
  },
  {
   "cell_type": "code",
   "execution_count": 23,
   "metadata": {
    "collapsed": false
   },
   "outputs": [
    {
     "data": {
      "image/png": "[encoded data removed]",
      "text/plain": [
       "<matplotlib.figure.Figure at 0x1145b5bd0>"
      ]
     },
     "metadata": {},
     "output_type": "display_data"
    }
   ],
   "source": [
    "def coordinate_conversion(P_lat, P_lon):\n",
    "    \"\"\"Convert GPS coordinates in to XY coordinate\n",
    "    \n",
    "    P_x = (P_lon − SW_lon) ∗ cos(SW_lat * pi / 180) ∗ 111.323\n",
    "    P_y = (P_lat − SW_lat) ∗ 111.323\n",
    "\n",
    "    Args:\n",
    "        P_lat: \n",
    "        P_lon: \n",
    "\n",
    "    Returns:\n",
    "        A point in XY coordinate.\n",
    "\n",
    "    \"\"\"\n",
    "    P_x = (P_lon - SW_lon) * math.cos(SW_lat * math.pi / 180) * 111.323\n",
    "    P_y = (P_lat - SW_lat) * 111.323\n",
    "    \n",
    "    return P_x, P_y\n",
    "\n",
    "def arc_length(degree, radius):\n",
    "    '''\n",
    "    length= degree * pi * radius / 180\n",
    "    '''\n",
    "    length = degree * math.pi * radius / 180\n",
    "    return length\n",
    "\n",
    "def convert_spree(spree_coords):\n",
    "\n",
    "    XY_coords = []\n",
    "    for GPS_coord in spree_coords:\n",
    "        P_x, P_y = coordinate_conversion(GPS_coord[0], GPS_coord[1])\n",
    "        XY_coords.append([P_x, P_y])\n",
    "        \n",
    "    return XY_coords\n",
    "\n",
    "\n",
    "def draw_on_google_map(map_center, coords):\n",
    "\n",
    "    gmap = gmplot.GoogleMapPlotter(map_center[0], map_center[1], 13)\n",
    "\n",
    "#     gmap.plot(coords[:,0], coords[:,1], 'cornflowerblue', edge_width=10)\n",
    "#     gmap.scatter(coords[:,0], coords[:,1], '#000000', size=400, marker=True)\n",
    "#     gmap.scatter(marker_lats, marker_lngs, 'k', marker=True)\n",
    "    gmap.heatmap(coords[:,0], coords[:,1], radius=100, opacity=0.5)\n",
    "\n",
    "    gmap.draw(\"mymap.html\")\n",
    "\n",
    "SW_lat = 52.464011 #(Latitude)\n",
    "SW_lon = 13.274099 #(Longitude)\n",
    "EARTH_RADIUS = 6371000 #Earth radius in meter\n",
    "\n",
    "BERLIN_LAT = 52.5167\n",
    "BERLIN_LON = 13.3833\n",
    "\n",
    "SPREE_GPS = [\n",
    "    [52.529198,13.274099],\n",
    "    [52.531835,13.29234],\n",
    "    [52.522116,13.298541],\n",
    "    [52.520569,13.317349],\n",
    "    [52.524877,13.322434],\n",
    "    [52.522788,13.329],\n",
    "    [52.517056,13.332075],\n",
    "    [52.522514,13.340743],\n",
    "    [52.517239,13.356665],\n",
    "    [52.523063,13.372158],\n",
    "    [52.519198,13.379453],\n",
    "    [52.522462,13.392328],\n",
    "    [52.520921,13.399703],\n",
    "    [52.515333,13.406054],\n",
    "    [52.514863,13.416354],\n",
    "    [52.506034,13.435923],\n",
    "    [52.496473,13.461587],\n",
    "    [52.487641,13.483216],\n",
    "    [52.488739,13.491456],\n",
    "    [52.464011,13.503386]]\n",
    "\n",
    "def main():\n",
    "\n",
    "    \n",
    "#     ORI_x, ORI_y = coordinate_conversion(SW_lat, SW_lon)\n",
    "#     DES_x, DES_y = coordinate_conversion(SW_lat, SW_lon+1)\n",
    "\n",
    "#     B_GATE_lat = 52.516288\n",
    "#     B_GATE_lon = 13.377689\n",
    "#     B_GATE_x , B_GATE_y = coordinate_conversion(B_GATE_lat, B_GATE_lon)\n",
    "\n",
    "#     print ORI_x, ORI_y, DES_x, DES_y\n",
    "\n",
    "#     ratio = (DES_x - ORI_x)/arc_length(1, EARTH_RADIUS)\n",
    "#     print ratio\n",
    "\n",
    "#     standard_deviation = ratio*2730/2\n",
    "#     print variance\n",
    "\n",
    "#     draw_plot(B_GATE_x, B_GATE_y, standard_deviation)\n",
    "    spree_coords = convert_spree(SPREE_GPS)\n",
    "    spree_coords = np.asarray(spree_coords)\n",
    "    plt.plot(spree_coords[:, 0], spree_coords[:, 1], 'ro')\n",
    "    plt.axis([-1, 20, -1, 10])\n",
    "    plt.show()\n",
    "    \n",
    "    draw_on_google_map([BERLIN_LAT, BERLIN_LON], np.asarray(SPREE_GPS))\n",
    "\n",
    "if __name__ == \"__main__\": \n",
    "    main()"
   ]
  },
  {
   "cell_type": "code",
   "execution_count": 27,
   "metadata": {
    "collapsed": false
   },
   "outputs": [],
   "source": [
    "import requests\n",
    "f=open('static.png','wb')\n",
    "f.write(requests.get('http://maps.googleapis.com/maps/api/staticmap?center=31.0456,121.3997&zoom=12&size=320x385&sensor=false').content)\n",
    "f.close()"
   ]
  },
  {
   "cell_type": "code",
   "execution_count": 15,
   "metadata": {
    "collapsed": false
   },
   "outputs": [
    {
     "name": "stdout",
     "output_type": "stream",
     "text": [
      "0.707106781187\n"
     ]
    }
   ],
   "source": [
    "import math\n",
    "def dot(v,w):\n",
    "    x,y,z = v\n",
    "    X,Y,Z = w\n",
    "    return x*X + y*Y + z*Z\n",
    "\n",
    "def length(v):\n",
    "    x,y,z = v\n",
    "    return math.sqrt(x*x + y*y + z*z)\n",
    "\n",
    "def vector(b,e):\n",
    "    x,y,z = b\n",
    "    X,Y,Z = e\n",
    "    return (X-x, Y-y, Z-z)\n",
    "\n",
    "def unit(v):\n",
    "    x,y,z = v\n",
    "    mag = length(v)\n",
    "    return (x/mag, y/mag, z/mag)\n",
    "\n",
    "def distance(p0,p1):\n",
    "    return length(vector(p0,p1))\n",
    "\n",
    "def scale(v,sc):\n",
    "    x,y,z = v\n",
    "    return (x * sc, y * sc, z * sc)\n",
    "\n",
    "def add(v,w):\n",
    "    x,y,z = v\n",
    "    X,Y,Z = w\n",
    "    return (x+X, y+Y, z+Z)\n",
    "\n",
    "def distance_to_line(pnt, start, end):\n",
    "    \"\"\"\n",
    "    Calculate the shortest distance between a point and a line segment.\n",
    "    >>> distance_to_line([0, 0, 0], [1, 0, 0], [1, 1, 0])\n",
    "    1.0\n",
    "    >>> distance_to_line([0, 0, 0], [1, 0, 0],[0, 1, 0])\n",
    "    0.707106781187\n",
    "    \"\"\"\n",
    "    line_vec = vector(start, end)\n",
    "    pnt_vec = vector(start, pnt)\n",
    "    line_len = length(line_vec)\n",
    "    line_unitvec = unit(line_vec)\n",
    "    pnt_vec_scaled = scale(pnt_vec, 1.0/line_len)\n",
    "    t = dot(line_unitvec, pnt_vec_scaled)    \n",
    "    if t < 0.0:\n",
    "        t = 0.0\n",
    "    elif t > 1.0:\n",
    "        t = 1.0\n",
    "    nearest = scale(line_vec, t)\n",
    "    dist = distance(nearest, pnt_vec)\n",
    "    nearest = add(nearest, start)\n",
    "    return (dist, nearest)\n",
    "\n",
    "[distance,nearest_p] = distance_to_line([0, 0, 0], [1, 0, 0],[0, 1, 0])\n",
    "print distance"
   ]
  }
 ],
 "metadata": {
  "kernelspec": {
   "display_name": "Python 2",
   "language": "python",
   "name": "python2"
  },
  "language_info": {
   "codemirror_mode": {
    "name": "ipython",
    "version": 2
   },
   "file_extension": ".py",
   "mimetype": "text/x-python",
   "name": "python",
   "nbconvert_exporter": "python",
   "pygments_lexer": "ipython2",
   "version": "2.7.6"
  }
 },
 "nbformat": 4,
 "nbformat_minor": 0
}
