{
 "cells": [
  {
   "cell_type": "code",
   "execution_count": 48,
   "metadata": {
    "collapsed": true
   },
   "outputs": [],
   "source": [
    "import statsmodels as sm\n",
    "import pandas as pd\n",
    "from sklearn.preprocessing import OneHotEncoder\n",
    "from sklearn.cross_validation import train_test_split\n",
    "from sklearn.feature_extraction import DictVectorizer\n",
    "from sklearn import cross_validation\n",
    "from sklearn.linear_model import LogisticRegression\n",
    "from sklearn.svm import SVC\n",
    "from sklearn.metrics import roc_auc_score\n",
    "from sklearn.metrics import confusion_matrix"
   ]
  },
  {
   "cell_type": "code",
   "execution_count": 9,
   "metadata": {
    "collapsed": false
   },
   "outputs": [
    {
     "data": {
      "text/html": [
       "<div>\n",
       "<table border=\"1\" class=\"dataframe\">\n",
       "  <thead>\n",
       "    <tr style=\"text-align: right;\">\n",
       "      <th></th>\n",
       "      <th>rate_marriage</th>\n",
       "      <th>age</th>\n",
       "      <th>yrs_married</th>\n",
       "      <th>children</th>\n",
       "      <th>religious</th>\n",
       "      <th>educ</th>\n",
       "      <th>occupation</th>\n",
       "      <th>occupation_husb</th>\n",
       "      <th>affairs</th>\n",
       "    </tr>\n",
       "  </thead>\n",
       "  <tbody>\n",
       "    <tr>\n",
       "      <th>0</th>\n",
       "      <td>3.0</td>\n",
       "      <td>32.0</td>\n",
       "      <td>9.0</td>\n",
       "      <td>3.0</td>\n",
       "      <td>3.0</td>\n",
       "      <td>17.0</td>\n",
       "      <td>2.0</td>\n",
       "      <td>5.0</td>\n",
       "      <td>0.111111</td>\n",
       "    </tr>\n",
       "    <tr>\n",
       "      <th>1</th>\n",
       "      <td>3.0</td>\n",
       "      <td>27.0</td>\n",
       "      <td>13.0</td>\n",
       "      <td>3.0</td>\n",
       "      <td>1.0</td>\n",
       "      <td>14.0</td>\n",
       "      <td>3.0</td>\n",
       "      <td>4.0</td>\n",
       "      <td>3.230769</td>\n",
       "    </tr>\n",
       "    <tr>\n",
       "      <th>2</th>\n",
       "      <td>4.0</td>\n",
       "      <td>22.0</td>\n",
       "      <td>2.5</td>\n",
       "      <td>0.0</td>\n",
       "      <td>1.0</td>\n",
       "      <td>16.0</td>\n",
       "      <td>3.0</td>\n",
       "      <td>5.0</td>\n",
       "      <td>1.400000</td>\n",
       "    </tr>\n",
       "    <tr>\n",
       "      <th>3</th>\n",
       "      <td>4.0</td>\n",
       "      <td>37.0</td>\n",
       "      <td>16.5</td>\n",
       "      <td>4.0</td>\n",
       "      <td>3.0</td>\n",
       "      <td>16.0</td>\n",
       "      <td>5.0</td>\n",
       "      <td>5.0</td>\n",
       "      <td>0.727273</td>\n",
       "    </tr>\n",
       "    <tr>\n",
       "      <th>4</th>\n",
       "      <td>5.0</td>\n",
       "      <td>27.0</td>\n",
       "      <td>9.0</td>\n",
       "      <td>1.0</td>\n",
       "      <td>1.0</td>\n",
       "      <td>14.0</td>\n",
       "      <td>3.0</td>\n",
       "      <td>4.0</td>\n",
       "      <td>4.666666</td>\n",
       "    </tr>\n",
       "  </tbody>\n",
       "</table>\n",
       "</div>"
      ],
      "text/plain": [
       "   rate_marriage   age  yrs_married  children  religious  educ  occupation  \\\n",
       "0            3.0  32.0          9.0       3.0        3.0  17.0         2.0   \n",
       "1            3.0  27.0         13.0       3.0        1.0  14.0         3.0   \n",
       "2            4.0  22.0          2.5       0.0        1.0  16.0         3.0   \n",
       "3            4.0  37.0         16.5       4.0        3.0  16.0         5.0   \n",
       "4            5.0  27.0          9.0       1.0        1.0  14.0         3.0   \n",
       "\n",
       "   occupation_husb   affairs  \n",
       "0              5.0  0.111111  \n",
       "1              4.0  3.230769  \n",
       "2              5.0  1.400000  \n",
       "3              5.0  0.727273  \n",
       "4              4.0  4.666666  "
      ]
     },
     "execution_count": 9,
     "metadata": {},
     "output_type": "execute_result"
    }
   ],
   "source": [
    "# load dataset\n",
    "affair_data = sm.datasets.fair.load_pandas().data\n",
    "affair_data.head(5)"
   ]
  },
  {
   "cell_type": "code",
   "execution_count": 10,
   "metadata": {
    "collapsed": false
   },
   "outputs": [
    {
     "data": {
      "text/plain": [
       "0    4313\n",
       "1    2053\n",
       "Name: affairs, dtype: int64"
      ]
     },
     "execution_count": 10,
     "metadata": {},
     "output_type": "execute_result"
    }
   ],
   "source": [
    "# add \"affair\" column: 1 represents having affairs, 0 represents not\n",
    "X_data = affair_data.drop(['affairs'], 1)\n",
    "labels = (affair_data.affairs > 0).astype(int)\n",
    "labels.value_counts()"
   ]
  },
  {
   "cell_type": "code",
   "execution_count": 11,
   "metadata": {
    "collapsed": false
   },
   "outputs": [
    {
     "data": {
      "text/plain": [
       "rate_marriage      0\n",
       "age                0\n",
       "yrs_married        0\n",
       "children           0\n",
       "religious          0\n",
       "educ               0\n",
       "occupation         0\n",
       "occupation_husb    0\n",
       "affairs            0\n",
       "dtype: int64"
      ]
     },
     "execution_count": 11,
     "metadata": {},
     "output_type": "execute_result"
    }
   ],
   "source": [
    "affair_data.isnull().sum()"
   ]
  },
  {
   "cell_type": "code",
   "execution_count": null,
   "metadata": {
    "collapsed": true
   },
   "outputs": [],
   "source": [
    ""
   ]
  },
  {
   "cell_type": "code",
   "execution_count": 12,
   "metadata": {
    "collapsed": false
   },
   "outputs": [
    {
     "data": {
      "text/html": [
       "<div>\n",
       "<table border=\"1\" class=\"dataframe\">\n",
       "  <thead>\n",
       "    <tr style=\"text-align: right;\">\n",
       "      <th></th>\n",
       "      <th>rate_marriage</th>\n",
       "      <th>age</th>\n",
       "      <th>yrs_married</th>\n",
       "      <th>children</th>\n",
       "      <th>religious</th>\n",
       "      <th>educ</th>\n",
       "      <th>occupation</th>\n",
       "      <th>occupation_husb</th>\n",
       "    </tr>\n",
       "  </thead>\n",
       "  <tbody>\n",
       "    <tr>\n",
       "      <th>2411</th>\n",
       "      <td>5.0</td>\n",
       "      <td>27.0</td>\n",
       "      <td>6.0</td>\n",
       "      <td>1.0</td>\n",
       "      <td>2.0</td>\n",
       "      <td>16.0</td>\n",
       "      <td>2.0</td>\n",
       "      <td>6.0</td>\n",
       "    </tr>\n",
       "    <tr>\n",
       "      <th>4083</th>\n",
       "      <td>4.0</td>\n",
       "      <td>42.0</td>\n",
       "      <td>23.0</td>\n",
       "      <td>4.0</td>\n",
       "      <td>3.0</td>\n",
       "      <td>14.0</td>\n",
       "      <td>3.0</td>\n",
       "      <td>5.0</td>\n",
       "    </tr>\n",
       "    <tr>\n",
       "      <th>3196</th>\n",
       "      <td>5.0</td>\n",
       "      <td>37.0</td>\n",
       "      <td>23.0</td>\n",
       "      <td>4.0</td>\n",
       "      <td>2.0</td>\n",
       "      <td>14.0</td>\n",
       "      <td>3.0</td>\n",
       "      <td>5.0</td>\n",
       "    </tr>\n",
       "    <tr>\n",
       "      <th>3035</th>\n",
       "      <td>5.0</td>\n",
       "      <td>22.0</td>\n",
       "      <td>2.5</td>\n",
       "      <td>0.0</td>\n",
       "      <td>2.0</td>\n",
       "      <td>12.0</td>\n",
       "      <td>3.0</td>\n",
       "      <td>4.0</td>\n",
       "    </tr>\n",
       "    <tr>\n",
       "      <th>1772</th>\n",
       "      <td>3.0</td>\n",
       "      <td>22.0</td>\n",
       "      <td>2.5</td>\n",
       "      <td>0.0</td>\n",
       "      <td>3.0</td>\n",
       "      <td>14.0</td>\n",
       "      <td>5.0</td>\n",
       "      <td>4.0</td>\n",
       "    </tr>\n",
       "  </tbody>\n",
       "</table>\n",
       "</div>"
      ],
      "text/plain": [
       "      rate_marriage   age  yrs_married  children  religious  educ  occupation  \\\n",
       "2411            5.0  27.0          6.0       1.0        2.0  16.0         2.0   \n",
       "4083            4.0  42.0         23.0       4.0        3.0  14.0         3.0   \n",
       "3196            5.0  37.0         23.0       4.0        2.0  14.0         3.0   \n",
       "3035            5.0  22.0          2.5       0.0        2.0  12.0         3.0   \n",
       "1772            3.0  22.0          2.5       0.0        3.0  14.0         5.0   \n",
       "\n",
       "      occupation_husb  \n",
       "2411              6.0  \n",
       "4083              5.0  \n",
       "3196              5.0  \n",
       "3035              4.0  \n",
       "1772              4.0  "
      ]
     },
     "execution_count": 12,
     "metadata": {},
     "output_type": "execute_result"
    }
   ],
   "source": [
    "X_train, X_test, y_train, y_test = train_test_split(X_data, labels,  test_size=0.3, random_state=0)\n",
    "X_train.head(5)"
   ]
  },
  {
   "cell_type": "code",
   "execution_count": 13,
   "metadata": {
    "collapsed": true
   },
   "outputs": [],
   "source": [
    "def encode_onehot(df, cols):\n",
    "    \"\"\"\n",
    "    One-hot encoding is applied to columns specified in a pandas DataFrame.\n",
    "    \n",
    "    Modified from: https://gist.github.com/kljensen/5452382\n",
    "    \n",
    "    Details:\n",
    "    \n",
    "    http://en.wikipedia.org/wiki/One-hot\n",
    "    http://scikit-learn.org/stable/modules/generated/sklearn.preprocessing.OneHotEncoder.html\n",
    "    \n",
    "    @param df pandas DataFrame\n",
    "    @param cols a list of columns to encode\n",
    "    @return a DataFrame with one-hot encoding\n",
    "    \"\"\"\n",
    "    vec = DictVectorizer()\n",
    "    \n",
    "    df_str = df[cols].astype(str)\n",
    "    vec_data = pd.DataFrame(vec.fit_transform(df_str[cols].to_dict(orient='records')).toarray())\n",
    "    vec_data.columns = vec.get_feature_names()\n",
    "    print(vec_data.columns)\n",
    "    vec_data.index = df.index\n",
    "    \n",
    "    df = df.drop(cols, axis=1)\n",
    "    df = df.join(vec_data)\n",
    "    return df"
   ]
  },
  {
   "cell_type": "code",
   "execution_count": 14,
   "metadata": {
    "collapsed": false
   },
   "outputs": [
    {
     "name": "stdout",
     "output_type": "stream",
     "text": [
      "Index(['educ=12.0', 'educ=14.0', 'educ=16.0', 'educ=17.0', 'educ=20.0',\n",
      "       'educ=9.0', 'occupation=1.0', 'occupation=2.0', 'occupation=3.0',\n",
      "       'occupation=4.0', 'occupation=5.0', 'occupation=6.0',\n",
      "       'occupation_husb=1.0', 'occupation_husb=2.0', 'occupation_husb=3.0',\n",
      "       'occupation_husb=4.0', 'occupation_husb=5.0', 'occupation_husb=6.0',\n",
      "       'religious=1.0', 'religious=2.0', 'religious=3.0', 'religious=4.0'],\n",
      "      dtype='object')\n"
     ]
    },
    {
     "data": {
      "text/html": [
       "<div>\n",
       "<table border=\"1\" class=\"dataframe\">\n",
       "  <thead>\n",
       "    <tr style=\"text-align: right;\">\n",
       "      <th></th>\n",
       "      <th>rate_marriage</th>\n",
       "      <th>age</th>\n",
       "      <th>yrs_married</th>\n",
       "      <th>children</th>\n",
       "      <th>educ=12.0</th>\n",
       "      <th>educ=14.0</th>\n",
       "      <th>educ=16.0</th>\n",
       "      <th>educ=17.0</th>\n",
       "      <th>educ=20.0</th>\n",
       "      <th>educ=9.0</th>\n",
       "      <th>...</th>\n",
       "      <th>occupation_husb=1.0</th>\n",
       "      <th>occupation_husb=2.0</th>\n",
       "      <th>occupation_husb=3.0</th>\n",
       "      <th>occupation_husb=4.0</th>\n",
       "      <th>occupation_husb=5.0</th>\n",
       "      <th>occupation_husb=6.0</th>\n",
       "      <th>religious=1.0</th>\n",
       "      <th>religious=2.0</th>\n",
       "      <th>religious=3.0</th>\n",
       "      <th>religious=4.0</th>\n",
       "    </tr>\n",
       "  </thead>\n",
       "  <tbody>\n",
       "    <tr>\n",
       "      <th>2411</th>\n",
       "      <td>5.0</td>\n",
       "      <td>27.0</td>\n",
       "      <td>6.0</td>\n",
       "      <td>1.0</td>\n",
       "      <td>0.0</td>\n",
       "      <td>0.0</td>\n",
       "      <td>1.0</td>\n",
       "      <td>0.0</td>\n",
       "      <td>0.0</td>\n",
       "      <td>0.0</td>\n",
       "      <td>...</td>\n",
       "      <td>0.0</td>\n",
       "      <td>0.0</td>\n",
       "      <td>0.0</td>\n",
       "      <td>0.0</td>\n",
       "      <td>0.0</td>\n",
       "      <td>1.0</td>\n",
       "      <td>0.0</td>\n",
       "      <td>1.0</td>\n",
       "      <td>0.0</td>\n",
       "      <td>0.0</td>\n",
       "    </tr>\n",
       "    <tr>\n",
       "      <th>4083</th>\n",
       "      <td>4.0</td>\n",
       "      <td>42.0</td>\n",
       "      <td>23.0</td>\n",
       "      <td>4.0</td>\n",
       "      <td>0.0</td>\n",
       "      <td>1.0</td>\n",
       "      <td>0.0</td>\n",
       "      <td>0.0</td>\n",
       "      <td>0.0</td>\n",
       "      <td>0.0</td>\n",
       "      <td>...</td>\n",
       "      <td>0.0</td>\n",
       "      <td>0.0</td>\n",
       "      <td>0.0</td>\n",
       "      <td>0.0</td>\n",
       "      <td>1.0</td>\n",
       "      <td>0.0</td>\n",
       "      <td>0.0</td>\n",
       "      <td>0.0</td>\n",
       "      <td>1.0</td>\n",
       "      <td>0.0</td>\n",
       "    </tr>\n",
       "    <tr>\n",
       "      <th>3196</th>\n",
       "      <td>5.0</td>\n",
       "      <td>37.0</td>\n",
       "      <td>23.0</td>\n",
       "      <td>4.0</td>\n",
       "      <td>0.0</td>\n",
       "      <td>1.0</td>\n",
       "      <td>0.0</td>\n",
       "      <td>0.0</td>\n",
       "      <td>0.0</td>\n",
       "      <td>0.0</td>\n",
       "      <td>...</td>\n",
       "      <td>0.0</td>\n",
       "      <td>0.0</td>\n",
       "      <td>0.0</td>\n",
       "      <td>0.0</td>\n",
       "      <td>1.0</td>\n",
       "      <td>0.0</td>\n",
       "      <td>0.0</td>\n",
       "      <td>1.0</td>\n",
       "      <td>0.0</td>\n",
       "      <td>0.0</td>\n",
       "    </tr>\n",
       "    <tr>\n",
       "      <th>3035</th>\n",
       "      <td>5.0</td>\n",
       "      <td>22.0</td>\n",
       "      <td>2.5</td>\n",
       "      <td>0.0</td>\n",
       "      <td>1.0</td>\n",
       "      <td>0.0</td>\n",
       "      <td>0.0</td>\n",
       "      <td>0.0</td>\n",
       "      <td>0.0</td>\n",
       "      <td>0.0</td>\n",
       "      <td>...</td>\n",
       "      <td>0.0</td>\n",
       "      <td>0.0</td>\n",
       "      <td>0.0</td>\n",
       "      <td>1.0</td>\n",
       "      <td>0.0</td>\n",
       "      <td>0.0</td>\n",
       "      <td>0.0</td>\n",
       "      <td>1.0</td>\n",
       "      <td>0.0</td>\n",
       "      <td>0.0</td>\n",
       "    </tr>\n",
       "    <tr>\n",
       "      <th>1772</th>\n",
       "      <td>3.0</td>\n",
       "      <td>22.0</td>\n",
       "      <td>2.5</td>\n",
       "      <td>0.0</td>\n",
       "      <td>0.0</td>\n",
       "      <td>1.0</td>\n",
       "      <td>0.0</td>\n",
       "      <td>0.0</td>\n",
       "      <td>0.0</td>\n",
       "      <td>0.0</td>\n",
       "      <td>...</td>\n",
       "      <td>0.0</td>\n",
       "      <td>0.0</td>\n",
       "      <td>0.0</td>\n",
       "      <td>1.0</td>\n",
       "      <td>0.0</td>\n",
       "      <td>0.0</td>\n",
       "      <td>0.0</td>\n",
       "      <td>0.0</td>\n",
       "      <td>1.0</td>\n",
       "      <td>0.0</td>\n",
       "    </tr>\n",
       "  </tbody>\n",
       "</table>\n",
       "<p>5 rows × 26 columns</p>\n",
       "</div>"
      ],
      "text/plain": [
       "      rate_marriage   age  yrs_married  children  educ=12.0  educ=14.0  \\\n",
       "2411            5.0  27.0          6.0       1.0        0.0        0.0   \n",
       "4083            4.0  42.0         23.0       4.0        0.0        1.0   \n",
       "3196            5.0  37.0         23.0       4.0        0.0        1.0   \n",
       "3035            5.0  22.0          2.5       0.0        1.0        0.0   \n",
       "1772            3.0  22.0          2.5       0.0        0.0        1.0   \n",
       "\n",
       "      educ=16.0  educ=17.0  educ=20.0  educ=9.0      ...        \\\n",
       "2411        1.0        0.0        0.0       0.0      ...         \n",
       "4083        0.0        0.0        0.0       0.0      ...         \n",
       "3196        0.0        0.0        0.0       0.0      ...         \n",
       "3035        0.0        0.0        0.0       0.0      ...         \n",
       "1772        0.0        0.0        0.0       0.0      ...         \n",
       "\n",
       "      occupation_husb=1.0  occupation_husb=2.0  occupation_husb=3.0  \\\n",
       "2411                  0.0                  0.0                  0.0   \n",
       "4083                  0.0                  0.0                  0.0   \n",
       "3196                  0.0                  0.0                  0.0   \n",
       "3035                  0.0                  0.0                  0.0   \n",
       "1772                  0.0                  0.0                  0.0   \n",
       "\n",
       "      occupation_husb=4.0  occupation_husb=5.0  occupation_husb=6.0  \\\n",
       "2411                  0.0                  0.0                  1.0   \n",
       "4083                  0.0                  1.0                  0.0   \n",
       "3196                  0.0                  1.0                  0.0   \n",
       "3035                  1.0                  0.0                  0.0   \n",
       "1772                  1.0                  0.0                  0.0   \n",
       "\n",
       "      religious=1.0  religious=2.0  religious=3.0  religious=4.0  \n",
       "2411            0.0            1.0            0.0            0.0  \n",
       "4083            0.0            0.0            1.0            0.0  \n",
       "3196            0.0            1.0            0.0            0.0  \n",
       "3035            0.0            1.0            0.0            0.0  \n",
       "1772            0.0            0.0            1.0            0.0  \n",
       "\n",
       "[5 rows x 26 columns]"
      ]
     },
     "execution_count": 14,
     "metadata": {},
     "output_type": "execute_result"
    }
   ],
   "source": [
    "# enc = OneHotEncoder(sparse= False)\n",
    "# enc.fit(affair_data[['religious', 'educ', 'occupation', 'occupation_husb']])\n",
    "# enc.transform([[1.0, 17.0, 4.0, 5.0]]).toarray()\n",
    "ohe_columns = ['religious', 'educ', 'occupation', 'occupation_husb']\n",
    "\n",
    "X_train_ohe = encode_onehot(X_train, ohe_columns)\n",
    "\n",
    "X_train_ohe.head(5)"
   ]
  },
  {
   "cell_type": "code",
   "execution_count": 54,
   "metadata": {
    "collapsed": false
   },
   "outputs": [
    {
     "name": "stdout",
     "output_type": "stream",
     "text": [
      "accuracy:0.7208208140196183\n",
      "roc_auc_score: 0.7419054866628005\n"
     ]
    }
   ],
   "source": [
    "clf = LogisticRegression()\n",
    "scores = cross_validation.cross_val_score(clf, X_train_ohe, y_train, cv=5)\n",
    "roc_score= cross_validation.cross_val_score(clf, X_train_ohe, y_train, cv=5, scoring='roc_auc')\n",
    "print('accuracy:{}'.format(scores.mean()))\n",
    "print('roc_auc_score: {}'.format(roc_score.mean()))"
   ]
  },
  {
   "cell_type": "markdown",
   "metadata": {},
   "source": [
    "## Support Vector Machine"
   ]
  },
  {
   "cell_type": "code",
   "execution_count": 56,
   "metadata": {
    "collapsed": false
   },
   "outputs": [
    {
     "name": "stdout",
     "output_type": "stream",
     "text": [
      "accuracy:0.7120701282883644\n",
      "roc_auc_score: 0.7149969357996513\n"
     ]
    }
   ],
   "source": [
    "clf= SVC(kernel='rbf', C=5)\n",
    "\n",
    "scores = cross_validation.cross_val_score(clf, X_train_ohe, y_train, cv=5)\n",
    "roc_score= cross_validation.cross_val_score(clf, X_train_ohe, y_train, cv=5, scoring='roc_auc')\n",
    "print('accuracy:{}'.format(scores.mean()))\n",
    "print('roc_auc_score: {}'.format(roc_score.mean()))"
   ]
  },
  {
   "cell_type": "markdown",
   "metadata": {},
   "source": [
    "## Random Forest method"
   ]
  },
  {
   "cell_type": "markdown",
   "metadata": {},
   "source": [
    "### Gradient boosting method "
   ]
  },
  {
   "cell_type": "code",
   "execution_count": 51,
   "metadata": {
    "collapsed": false
   },
   "outputs": [
    {
     "name": "stdout",
     "output_type": "stream",
     "text": [
      "\n",
      "Model Report\n",
      "Accuracy : 0.7462\n",
      "AUC Score (Train): 0.787516\n",
      "Confusion matrix: \n",
      "[[2702  308]\n",
      " [ 823  623]]\n",
      "CV Score : Mean - 0.7478468 | Std - 0.02011003 | Min - 0.7206658 | Max - 0.7750286\n"
     ]
    },
    {
     "data": {
      "image/png": "[encoded data removed]",
      "text/plain": [
       "<matplotlib.figure.Figure at 0x1092d4160>"
      ]
     },
     "metadata": {},
     "output_type": "display_data"
    }
   ],
   "source": [
    "from sklearn.ensemble import GradientBoostingClassifier  #GBM algorithm\n",
    "from sklearn.grid_search import GridSearchCV   #Perforing grid search\n",
    "from sklearn import metrics\n",
    "import matplotlib.pylab as plt\n",
    "import numpy as np\n",
    "%matplotlib inline\n",
    "\n",
    "def modelfit(alg, dtrain, predictors, dlabels, performCV=True, printFeatureImportance=True, cv_folds=5):\n",
    "    #Fit the algorithm on the data\n",
    "    alg.fit(dtrain[predictors], dlabels)\n",
    "        \n",
    "    #Predict training set:\n",
    "    dtrain_predictions = alg.predict(dtrain[predictors])\n",
    "    dtrain_predprob = alg.predict_proba(dtrain[predictors])[:,1]\n",
    "    \n",
    "    #Perform cross-validation:\n",
    "    if performCV:\n",
    "        cv_score = cross_validation.cross_val_score(alg, dtrain[predictors],dlabels, cv=cv_folds, scoring='roc_auc')\n",
    "    \n",
    "    #Print model report:\n",
    "    print(\"\\nModel Report\")\n",
    "    print(\"Accuracy : %.4g\" % metrics.accuracy_score(dlabels, dtrain_predictions))\n",
    "    print(\"AUC Score (Train): %f\" % metrics.roc_auc_score(dlabels, dtrain_predprob))\n",
    "    print(\"Confusion matrix: \\n{}\".format(confusion_matrix(y_true= dlabels, y_pred =dtrain_predictions)))\n",
    "    \n",
    "    if performCV:\n",
    "        print(\"CV Score : Mean - %.7g | Std - %.7g | Min - %.7g | Max - %.7g\" % (np.mean(cv_score),np.std(cv_score),np.min(cv_score),np.max(cv_score)))\n",
    "        \n",
    "    #Print Feature Importance:\n",
    "    if printFeatureImportance:\n",
    "        feat_imp = pd.Series(alg.feature_importances_, predictors).sort_values(ascending=False)\n",
    "        feat_imp.plot(kind='bar', title='Feature Importances')\n",
    "        plt.ylabel('Feature Importance Score')\n",
    "\n",
    "gbm0 = GradientBoostingClassifier(random_state=10)\n",
    "modelfit(gbm0, X_train_ohe, X_train_ohe.columns, y_train)"
   ]
  },
  {
   "cell_type": "code",
   "execution_count": 27,
   "metadata": {
    "collapsed": false
   },
   "outputs": [
    {
     "data": {
      "text/plain": [
       "GridSearchCV(cv=5, error_score='raise',\n",
       "       estimator=GradientBoostingClassifier(init=None, learning_rate=0.1, loss='deviance',\n",
       "              max_depth=5, max_features='sqrt', max_leaf_nodes=None,\n",
       "              min_samples_leaf=5, min_samples_split=60,\n",
       "              min_weight_fraction_leaf=0.0, n_estimators=100,\n",
       "              presort='auto', random_state=10, subsample=0.8, verbose=0,\n",
       "              warm_start=False),\n",
       "       fit_params={}, iid=False, n_jobs=4,\n",
       "       param_grid={'n_estimators': array([20, 30, 40, 50, 60, 70, 80])},\n",
       "       pre_dispatch='2*n_jobs', refit=True, scoring='roc_auc', verbose=0)"
      ]
     },
     "execution_count": 27,
     "metadata": {},
     "output_type": "execute_result"
    }
   ],
   "source": [
    "param_test1 = {'n_estimators':np.arange(20,81,10)}\n",
    "gsearch1 = GridSearchCV(estimator = GradientBoostingClassifier(learning_rate=0.1, min_samples_split=60,min_samples_leaf=5,max_depth=5,max_features='sqrt',subsample=0.8,random_state=10), \n",
    "param_grid = param_test1, scoring='roc_auc',n_jobs=4,iid=False, cv=5)\n",
    "gsearch1.fit(X_train_ohe, y_train)"
   ]
  },
  {
   "cell_type": "code",
   "execution_count": 29,
   "metadata": {
    "collapsed": false
   },
   "outputs": [
    {
     "data": {
      "text/plain": [
       "([mean: 0.74108, std: 0.02179, params: {'n_estimators': 20},\n",
       "  mean: 0.74363, std: 0.02246, params: {'n_estimators': 30},\n",
       "  mean: 0.74451, std: 0.02172, params: {'n_estimators': 40},\n",
       "  mean: 0.74496, std: 0.02156, params: {'n_estimators': 50},\n",
       "  mean: 0.74531, std: 0.02104, params: {'n_estimators': 60},\n",
       "  mean: 0.74554, std: 0.02196, params: {'n_estimators': 70},\n",
       "  mean: 0.74439, std: 0.02186, params: {'n_estimators': 80}],\n",
       " {'n_estimators': 70},\n",
       " 0.745540405227613)"
      ]
     },
     "execution_count": 29,
     "metadata": {},
     "output_type": "execute_result"
    }
   ],
   "source": [
    "gsearch1.grid_scores_, gsearch1.best_params_, gsearch1.best_score_"
   ]
  },
  {
   "cell_type": "code",
   "execution_count": 31,
   "metadata": {
    "collapsed": false
   },
   "outputs": [
    {
     "data": {
      "text/plain": [
       "([mean: 0.74240, std: 0.01904, params: {'min_samples_split': 10, 'min_samples_leaf': 5, 'max_depth': 5},\n",
       "  mean: 0.74292, std: 0.01854, params: {'min_samples_split': 30, 'min_samples_leaf': 5, 'max_depth': 5},\n",
       "  mean: 0.74377, std: 0.02015, params: {'min_samples_split': 50, 'min_samples_leaf': 5, 'max_depth': 5},\n",
       "  mean: 0.74550, std: 0.02177, params: {'min_samples_split': 70, 'min_samples_leaf': 5, 'max_depth': 5},\n",
       "  mean: 0.74703, std: 0.02129, params: {'min_samples_split': 90, 'min_samples_leaf': 5, 'max_depth': 5},\n",
       "  mean: 0.74439, std: 0.02054, params: {'min_samples_split': 10, 'min_samples_leaf': 8, 'max_depth': 5},\n",
       "  mean: 0.74619, std: 0.01905, params: {'min_samples_split': 30, 'min_samples_leaf': 8, 'max_depth': 5},\n",
       "  mean: 0.74638, std: 0.02102, params: {'min_samples_split': 50, 'min_samples_leaf': 8, 'max_depth': 5},\n",
       "  mean: 0.74741, std: 0.02065, params: {'min_samples_split': 70, 'min_samples_leaf': 8, 'max_depth': 5},\n",
       "  mean: 0.74837, std: 0.02253, params: {'min_samples_split': 90, 'min_samples_leaf': 8, 'max_depth': 5},\n",
       "  mean: 0.74278, std: 0.01997, params: {'min_samples_split': 10, 'min_samples_leaf': 11, 'max_depth': 5},\n",
       "  mean: 0.74496, std: 0.01894, params: {'min_samples_split': 30, 'min_samples_leaf': 11, 'max_depth': 5},\n",
       "  mean: 0.74687, std: 0.02141, params: {'min_samples_split': 50, 'min_samples_leaf': 11, 'max_depth': 5},\n",
       "  mean: 0.74847, std: 0.01946, params: {'min_samples_split': 70, 'min_samples_leaf': 11, 'max_depth': 5},\n",
       "  mean: 0.74742, std: 0.01945, params: {'min_samples_split': 90, 'min_samples_leaf': 11, 'max_depth': 5},\n",
       "  mean: 0.74561, std: 0.02142, params: {'min_samples_split': 10, 'min_samples_leaf': 14, 'max_depth': 5},\n",
       "  mean: 0.74642, std: 0.02146, params: {'min_samples_split': 30, 'min_samples_leaf': 14, 'max_depth': 5},\n",
       "  mean: 0.74675, std: 0.02172, params: {'min_samples_split': 50, 'min_samples_leaf': 14, 'max_depth': 5},\n",
       "  mean: 0.74798, std: 0.02031, params: {'min_samples_split': 70, 'min_samples_leaf': 14, 'max_depth': 5},\n",
       "  mean: 0.74848, std: 0.02159, params: {'min_samples_split': 90, 'min_samples_leaf': 14, 'max_depth': 5},\n",
       "  mean: 0.74591, std: 0.01960, params: {'min_samples_split': 10, 'min_samples_leaf': 17, 'max_depth': 5},\n",
       "  mean: 0.74591, std: 0.01960, params: {'min_samples_split': 30, 'min_samples_leaf': 17, 'max_depth': 5},\n",
       "  mean: 0.74733, std: 0.02069, params: {'min_samples_split': 50, 'min_samples_leaf': 17, 'max_depth': 5},\n",
       "  mean: 0.74609, std: 0.02090, params: {'min_samples_split': 70, 'min_samples_leaf': 17, 'max_depth': 5},\n",
       "  mean: 0.74730, std: 0.02071, params: {'min_samples_split': 90, 'min_samples_leaf': 17, 'max_depth': 5},\n",
       "  mean: 0.73415, std: 0.01833, params: {'min_samples_split': 10, 'min_samples_leaf': 5, 'max_depth': 7},\n",
       "  mean: 0.73471, std: 0.01917, params: {'min_samples_split': 30, 'min_samples_leaf': 5, 'max_depth': 7},\n",
       "  mean: 0.73870, std: 0.01826, params: {'min_samples_split': 50, 'min_samples_leaf': 5, 'max_depth': 7},\n",
       "  mean: 0.73983, std: 0.02123, params: {'min_samples_split': 70, 'min_samples_leaf': 5, 'max_depth': 7},\n",
       "  mean: 0.74418, std: 0.01963, params: {'min_samples_split': 90, 'min_samples_leaf': 5, 'max_depth': 7},\n",
       "  mean: 0.73668, std: 0.01957, params: {'min_samples_split': 10, 'min_samples_leaf': 8, 'max_depth': 7},\n",
       "  mean: 0.73839, std: 0.02043, params: {'min_samples_split': 30, 'min_samples_leaf': 8, 'max_depth': 7},\n",
       "  mean: 0.73928, std: 0.01994, params: {'min_samples_split': 50, 'min_samples_leaf': 8, 'max_depth': 7},\n",
       "  mean: 0.74314, std: 0.01887, params: {'min_samples_split': 70, 'min_samples_leaf': 8, 'max_depth': 7},\n",
       "  mean: 0.74203, std: 0.01961, params: {'min_samples_split': 90, 'min_samples_leaf': 8, 'max_depth': 7},\n",
       "  mean: 0.73689, std: 0.01948, params: {'min_samples_split': 10, 'min_samples_leaf': 11, 'max_depth': 7},\n",
       "  mean: 0.73721, std: 0.01949, params: {'min_samples_split': 30, 'min_samples_leaf': 11, 'max_depth': 7},\n",
       "  mean: 0.74168, std: 0.01855, params: {'min_samples_split': 50, 'min_samples_leaf': 11, 'max_depth': 7},\n",
       "  mean: 0.74141, std: 0.01982, params: {'min_samples_split': 70, 'min_samples_leaf': 11, 'max_depth': 7},\n",
       "  mean: 0.74413, std: 0.01853, params: {'min_samples_split': 90, 'min_samples_leaf': 11, 'max_depth': 7},\n",
       "  mean: 0.74233, std: 0.01933, params: {'min_samples_split': 10, 'min_samples_leaf': 14, 'max_depth': 7},\n",
       "  mean: 0.74042, std: 0.02213, params: {'min_samples_split': 30, 'min_samples_leaf': 14, 'max_depth': 7},\n",
       "  mean: 0.74349, std: 0.02004, params: {'min_samples_split': 50, 'min_samples_leaf': 14, 'max_depth': 7},\n",
       "  mean: 0.74083, std: 0.01749, params: {'min_samples_split': 70, 'min_samples_leaf': 14, 'max_depth': 7},\n",
       "  mean: 0.74511, std: 0.01999, params: {'min_samples_split': 90, 'min_samples_leaf': 14, 'max_depth': 7},\n",
       "  mean: 0.74098, std: 0.01947, params: {'min_samples_split': 10, 'min_samples_leaf': 17, 'max_depth': 7},\n",
       "  mean: 0.74098, std: 0.01947, params: {'min_samples_split': 30, 'min_samples_leaf': 17, 'max_depth': 7},\n",
       "  mean: 0.74048, std: 0.01778, params: {'min_samples_split': 50, 'min_samples_leaf': 17, 'max_depth': 7},\n",
       "  mean: 0.74038, std: 0.01821, params: {'min_samples_split': 70, 'min_samples_leaf': 17, 'max_depth': 7},\n",
       "  mean: 0.74390, std: 0.01790, params: {'min_samples_split': 90, 'min_samples_leaf': 17, 'max_depth': 7},\n",
       "  mean: 0.72051, std: 0.01805, params: {'min_samples_split': 10, 'min_samples_leaf': 5, 'max_depth': 9},\n",
       "  mean: 0.72688, std: 0.01567, params: {'min_samples_split': 30, 'min_samples_leaf': 5, 'max_depth': 9},\n",
       "  mean: 0.73213, std: 0.01851, params: {'min_samples_split': 50, 'min_samples_leaf': 5, 'max_depth': 9},\n",
       "  mean: 0.73399, std: 0.01919, params: {'min_samples_split': 70, 'min_samples_leaf': 5, 'max_depth': 9},\n",
       "  mean: 0.73723, std: 0.01633, params: {'min_samples_split': 90, 'min_samples_leaf': 5, 'max_depth': 9},\n",
       "  mean: 0.72559, std: 0.01960, params: {'min_samples_split': 10, 'min_samples_leaf': 8, 'max_depth': 9},\n",
       "  mean: 0.72935, std: 0.01933, params: {'min_samples_split': 30, 'min_samples_leaf': 8, 'max_depth': 9},\n",
       "  mean: 0.73218, std: 0.02050, params: {'min_samples_split': 50, 'min_samples_leaf': 8, 'max_depth': 9},\n",
       "  mean: 0.73375, std: 0.02107, params: {'min_samples_split': 70, 'min_samples_leaf': 8, 'max_depth': 9},\n",
       "  mean: 0.74011, std: 0.01838, params: {'min_samples_split': 90, 'min_samples_leaf': 8, 'max_depth': 9},\n",
       "  mean: 0.73071, std: 0.01838, params: {'min_samples_split': 10, 'min_samples_leaf': 11, 'max_depth': 9},\n",
       "  mean: 0.73502, std: 0.01795, params: {'min_samples_split': 30, 'min_samples_leaf': 11, 'max_depth': 9},\n",
       "  mean: 0.73445, std: 0.01967, params: {'min_samples_split': 50, 'min_samples_leaf': 11, 'max_depth': 9},\n",
       "  mean: 0.73802, std: 0.01992, params: {'min_samples_split': 70, 'min_samples_leaf': 11, 'max_depth': 9},\n",
       "  mean: 0.73660, std: 0.01724, params: {'min_samples_split': 90, 'min_samples_leaf': 11, 'max_depth': 9},\n",
       "  mean: 0.73372, std: 0.01651, params: {'min_samples_split': 10, 'min_samples_leaf': 14, 'max_depth': 9},\n",
       "  mean: 0.73551, std: 0.01593, params: {'min_samples_split': 30, 'min_samples_leaf': 14, 'max_depth': 9},\n",
       "  mean: 0.73744, std: 0.01786, params: {'min_samples_split': 50, 'min_samples_leaf': 14, 'max_depth': 9},\n",
       "  mean: 0.73773, std: 0.01701, params: {'min_samples_split': 70, 'min_samples_leaf': 14, 'max_depth': 9},\n",
       "  mean: 0.74028, std: 0.01852, params: {'min_samples_split': 90, 'min_samples_leaf': 14, 'max_depth': 9},\n",
       "  mean: 0.73613, std: 0.01965, params: {'min_samples_split': 10, 'min_samples_leaf': 17, 'max_depth': 9},\n",
       "  mean: 0.73613, std: 0.01965, params: {'min_samples_split': 30, 'min_samples_leaf': 17, 'max_depth': 9},\n",
       "  mean: 0.73862, std: 0.01908, params: {'min_samples_split': 50, 'min_samples_leaf': 17, 'max_depth': 9},\n",
       "  mean: 0.73972, std: 0.01899, params: {'min_samples_split': 70, 'min_samples_leaf': 17, 'max_depth': 9},\n",
       "  mean: 0.73927, std: 0.01740, params: {'min_samples_split': 90, 'min_samples_leaf': 17, 'max_depth': 9},\n",
       "  mean: 0.71213, std: 0.01683, params: {'min_samples_split': 10, 'min_samples_leaf': 5, 'max_depth': 11},\n",
       "  mean: 0.72046, std: 0.01701, params: {'min_samples_split': 30, 'min_samples_leaf': 5, 'max_depth': 11},\n",
       "  mean: 0.72540, std: 0.01729, params: {'min_samples_split': 50, 'min_samples_leaf': 5, 'max_depth': 11},\n",
       "  mean: 0.73045, std: 0.02080, params: {'min_samples_split': 70, 'min_samples_leaf': 5, 'max_depth': 11},\n",
       "  mean: 0.73526, std: 0.01997, params: {'min_samples_split': 90, 'min_samples_leaf': 5, 'max_depth': 11},\n",
       "  mean: 0.71881, std: 0.01979, params: {'min_samples_split': 10, 'min_samples_leaf': 8, 'max_depth': 11},\n",
       "  mean: 0.72524, std: 0.01620, params: {'min_samples_split': 30, 'min_samples_leaf': 8, 'max_depth': 11},\n",
       "  mean: 0.73028, std: 0.01696, params: {'min_samples_split': 50, 'min_samples_leaf': 8, 'max_depth': 11},\n",
       "  mean: 0.73190, std: 0.01901, params: {'min_samples_split': 70, 'min_samples_leaf': 8, 'max_depth': 11},\n",
       "  mean: 0.73508, std: 0.01905, params: {'min_samples_split': 90, 'min_samples_leaf': 8, 'max_depth': 11},\n",
       "  mean: 0.72559, std: 0.01743, params: {'min_samples_split': 10, 'min_samples_leaf': 11, 'max_depth': 11},\n",
       "  mean: 0.72617, std: 0.01755, params: {'min_samples_split': 30, 'min_samples_leaf': 11, 'max_depth': 11},\n",
       "  mean: 0.72889, std: 0.01783, params: {'min_samples_split': 50, 'min_samples_leaf': 11, 'max_depth': 11},\n",
       "  mean: 0.73292, std: 0.01604, params: {'min_samples_split': 70, 'min_samples_leaf': 11, 'max_depth': 11},\n",
       "  mean: 0.73708, std: 0.01619, params: {'min_samples_split': 90, 'min_samples_leaf': 11, 'max_depth': 11},\n",
       "  mean: 0.73108, std: 0.01805, params: {'min_samples_split': 10, 'min_samples_leaf': 14, 'max_depth': 11},\n",
       "  mean: 0.72898, std: 0.01996, params: {'min_samples_split': 30, 'min_samples_leaf': 14, 'max_depth': 11},\n",
       "  mean: 0.73307, std: 0.01625, params: {'min_samples_split': 50, 'min_samples_leaf': 14, 'max_depth': 11},\n",
       "  mean: 0.73779, std: 0.01814, params: {'min_samples_split': 70, 'min_samples_leaf': 14, 'max_depth': 11},\n",
       "  mean: 0.73985, std: 0.01698, params: {'min_samples_split': 90, 'min_samples_leaf': 14, 'max_depth': 11},\n",
       "  mean: 0.73164, std: 0.01767, params: {'min_samples_split': 10, 'min_samples_leaf': 17, 'max_depth': 11},\n",
       "  mean: 0.73164, std: 0.01767, params: {'min_samples_split': 30, 'min_samples_leaf': 17, 'max_depth': 11},\n",
       "  mean: 0.73503, std: 0.01772, params: {'min_samples_split': 50, 'min_samples_leaf': 17, 'max_depth': 11},\n",
       "  mean: 0.73846, std: 0.01701, params: {'min_samples_split': 70, 'min_samples_leaf': 17, 'max_depth': 11},\n",
       "  mean: 0.73882, std: 0.01876, params: {'min_samples_split': 90, 'min_samples_leaf': 17, 'max_depth': 11},\n",
       "  mean: 0.70283, std: 0.01844, params: {'min_samples_split': 10, 'min_samples_leaf': 5, 'max_depth': 13},\n",
       "  mean: 0.71550, std: 0.01909, params: {'min_samples_split': 30, 'min_samples_leaf': 5, 'max_depth': 13},\n",
       "  mean: 0.72127, std: 0.01628, params: {'min_samples_split': 50, 'min_samples_leaf': 5, 'max_depth': 13},\n",
       "  mean: 0.73182, std: 0.01814, params: {'min_samples_split': 70, 'min_samples_leaf': 5, 'max_depth': 13},\n",
       "  mean: 0.73483, std: 0.01519, params: {'min_samples_split': 90, 'min_samples_leaf': 5, 'max_depth': 13},\n",
       "  mean: 0.71750, std: 0.01758, params: {'min_samples_split': 10, 'min_samples_leaf': 8, 'max_depth': 13},\n",
       "  mean: 0.72409, std: 0.01740, params: {'min_samples_split': 30, 'min_samples_leaf': 8, 'max_depth': 13},\n",
       "  mean: 0.72677, std: 0.01619, params: {'min_samples_split': 50, 'min_samples_leaf': 8, 'max_depth': 13},\n",
       "  mean: 0.73037, std: 0.01823, params: {'min_samples_split': 70, 'min_samples_leaf': 8, 'max_depth': 13},\n",
       "  mean: 0.73500, std: 0.01835, params: {'min_samples_split': 90, 'min_samples_leaf': 8, 'max_depth': 13},\n",
       "  mean: 0.72056, std: 0.01489, params: {'min_samples_split': 10, 'min_samples_leaf': 11, 'max_depth': 13},\n",
       "  mean: 0.72460, std: 0.01723, params: {'min_samples_split': 30, 'min_samples_leaf': 11, 'max_depth': 13},\n",
       "  mean: 0.72822, std: 0.01764, params: {'min_samples_split': 50, 'min_samples_leaf': 11, 'max_depth': 13},\n",
       "  mean: 0.73216, std: 0.01839, params: {'min_samples_split': 70, 'min_samples_leaf': 11, 'max_depth': 13},\n",
       "  mean: 0.73320, std: 0.01980, params: {'min_samples_split': 90, 'min_samples_leaf': 11, 'max_depth': 13},\n",
       "  mean: 0.72762, std: 0.01740, params: {'min_samples_split': 10, 'min_samples_leaf': 14, 'max_depth': 13},\n",
       "  mean: 0.72735, std: 0.01572, params: {'min_samples_split': 30, 'min_samples_leaf': 14, 'max_depth': 13},\n",
       "  mean: 0.73152, std: 0.01604, params: {'min_samples_split': 50, 'min_samples_leaf': 14, 'max_depth': 13},\n",
       "  mean: 0.73350, std: 0.01716, params: {'min_samples_split': 70, 'min_samples_leaf': 14, 'max_depth': 13},\n",
       "  mean: 0.73716, std: 0.02006, params: {'min_samples_split': 90, 'min_samples_leaf': 14, 'max_depth': 13},\n",
       "  mean: 0.73204, std: 0.01930, params: {'min_samples_split': 10, 'min_samples_leaf': 17, 'max_depth': 13},\n",
       "  mean: 0.73204, std: 0.01930, params: {'min_samples_split': 30, 'min_samples_leaf': 17, 'max_depth': 13},\n",
       "  mean: 0.73409, std: 0.01639, params: {'min_samples_split': 50, 'min_samples_leaf': 17, 'max_depth': 13},\n",
       "  mean: 0.73229, std: 0.01789, params: {'min_samples_split': 70, 'min_samples_leaf': 17, 'max_depth': 13},\n",
       "  mean: 0.73982, std: 0.01696, params: {'min_samples_split': 90, 'min_samples_leaf': 17, 'max_depth': 13},\n",
       "  mean: 0.70623, std: 0.01556, params: {'min_samples_split': 10, 'min_samples_leaf': 5, 'max_depth': 15},\n",
       "  mean: 0.71104, std: 0.01916, params: {'min_samples_split': 30, 'min_samples_leaf': 5, 'max_depth': 15},\n",
       "  mean: 0.71980, std: 0.01594, params: {'min_samples_split': 50, 'min_samples_leaf': 5, 'max_depth': 15},\n",
       "  mean: 0.72801, std: 0.01565, params: {'min_samples_split': 70, 'min_samples_leaf': 5, 'max_depth': 15},\n",
       "  mean: 0.73215, std: 0.01642, params: {'min_samples_split': 90, 'min_samples_leaf': 5, 'max_depth': 15},\n",
       "  mean: 0.71344, std: 0.01600, params: {'min_samples_split': 10, 'min_samples_leaf': 8, 'max_depth': 15},\n",
       "  mean: 0.71788, std: 0.01359, params: {'min_samples_split': 30, 'min_samples_leaf': 8, 'max_depth': 15},\n",
       "  mean: 0.72639, std: 0.01535, params: {'min_samples_split': 50, 'min_samples_leaf': 8, 'max_depth': 15},\n",
       "  mean: 0.72947, std: 0.01656, params: {'min_samples_split': 70, 'min_samples_leaf': 8, 'max_depth': 15},\n",
       "  mean: 0.73378, std: 0.01741, params: {'min_samples_split': 90, 'min_samples_leaf': 8, 'max_depth': 15},\n",
       "  mean: 0.72019, std: 0.01908, params: {'min_samples_split': 10, 'min_samples_leaf': 11, 'max_depth': 15},\n",
       "  mean: 0.72195, std: 0.01745, params: {'min_samples_split': 30, 'min_samples_leaf': 11, 'max_depth': 15},\n",
       "  mean: 0.72937, std: 0.01826, params: {'min_samples_split': 50, 'min_samples_leaf': 11, 'max_depth': 15},\n",
       "  mean: 0.73333, std: 0.01870, params: {'min_samples_split': 70, 'min_samples_leaf': 11, 'max_depth': 15},\n",
       "  mean: 0.73277, std: 0.02176, params: {'min_samples_split': 90, 'min_samples_leaf': 11, 'max_depth': 15},\n",
       "  mean: 0.72585, std: 0.01948, params: {'min_samples_split': 10, 'min_samples_leaf': 14, 'max_depth': 15},\n",
       "  mean: 0.72564, std: 0.01526, params: {'min_samples_split': 30, 'min_samples_leaf': 14, 'max_depth': 15},\n",
       "  mean: 0.73026, std: 0.01616, params: {'min_samples_split': 50, 'min_samples_leaf': 14, 'max_depth': 15},\n",
       "  mean: 0.73513, std: 0.01912, params: {'min_samples_split': 70, 'min_samples_leaf': 14, 'max_depth': 15},\n",
       "  mean: 0.73676, std: 0.01961, params: {'min_samples_split': 90, 'min_samples_leaf': 14, 'max_depth': 15},\n",
       "  mean: 0.73135, std: 0.01877, params: {'min_samples_split': 10, 'min_samples_leaf': 17, 'max_depth': 15},\n",
       "  mean: 0.73135, std: 0.01877, params: {'min_samples_split': 30, 'min_samples_leaf': 17, 'max_depth': 15},\n",
       "  mean: 0.73420, std: 0.01567, params: {'min_samples_split': 50, 'min_samples_leaf': 17, 'max_depth': 15},\n",
       "  mean: 0.73457, std: 0.01723, params: {'min_samples_split': 70, 'min_samples_leaf': 17, 'max_depth': 15},\n",
       "  mean: 0.73870, std: 0.01668, params: {'min_samples_split': 90, 'min_samples_leaf': 17, 'max_depth': 15}],\n",
       " {'max_depth': 5, 'min_samples_leaf': 14, 'min_samples_split': 90},\n",
       " 0.74847645619878223)"
      ]
     },
     "execution_count": 31,
     "metadata": {},
     "output_type": "execute_result"
    }
   ],
   "source": [
    "param_test2 = {'max_depth':np.arange(5,16,2), 'min_samples_split':np.arange(10,100,20), 'min_samples_leaf':np.arange(5,20,3)}\n",
    "gsearch2 = GridSearchCV(estimator = GradientBoostingClassifier(learning_rate=0.1, n_estimators=70, max_features='sqrt', subsample=0.8, random_state=10), \n",
    "param_grid = param_test2, scoring='roc_auc',n_jobs=4,iid=False, cv=5)\n",
    "gsearch2.fit(X_train_ohe, y_train)\n",
    "gsearch2.grid_scores_, gsearch2.best_params_, gsearch2.best_score_"
   ]
  },
  {
   "cell_type": "code",
   "execution_count": 53,
   "metadata": {
    "collapsed": false
   },
   "outputs": [
    {
     "name": "stdout",
     "output_type": "stream",
     "text": [
      "\n",
      "Model Report\n",
      "Accuracy : 0.746\n",
      "AUC Score (Train): 0.793903\n",
      "Confusion matrix: \n",
      "[[2691  319]\n",
      " [ 813  633]]\n",
      "CV Score : Mean - 0.7484765 | Std - 0.02158613 | Min - 0.7187518 | Max - 0.7787633\n"
     ]
    },
    {
     "data": {
      "image/png": "[encoded data removed]",
      "text/plain": [
       "<matplotlib.figure.Figure at 0x1095697b8>"
      ]
     },
     "metadata": {},
     "output_type": "display_data"
    }
   ],
   "source": [
    "modelfit(gsearch2.best_estimator_, X_train_ohe, X_train_ohe.columns, y_train)"
   ]
  },
  {
   "cell_type": "code",
   "execution_count": 36,
   "metadata": {
    "collapsed": false
   },
   "outputs": [
    {
     "data": {
      "text/plain": [
       "([mean: 0.74576, std: 0.02115, params: {'max_features': 3},\n",
       "  mean: 0.74703, std: 0.02129, params: {'max_features': 5},\n",
       "  mean: 0.74675, std: 0.01857, params: {'max_features': 7},\n",
       "  mean: 0.74369, std: 0.01998, params: {'max_features': 9}],\n",
       " {'max_features': 5},\n",
       " 0.74703074427563365)"
      ]
     },
     "execution_count": 36,
     "metadata": {},
     "output_type": "execute_result"
    }
   ],
   "source": [
    "param_test4 = {'max_features':np.arange(3,10,2)}\n",
    "gsearch4 = GridSearchCV(estimator = GradientBoostingClassifier(learning_rate=0.1, n_estimators=70,max_depth=5, min_samples_split=90, min_samples_leaf=5, subsample=0.8, random_state=10),\n",
    "param_grid = param_test4, scoring='roc_auc',n_jobs=4,iid=False, cv=5)\n",
    "gsearch4.fit(X_train_ohe,y_train)\n",
    "gsearch4.grid_scores_, gsearch4.best_params_, gsearch4.best_score_"
   ]
  },
  {
   "cell_type": "code",
   "execution_count": 37,
   "metadata": {
    "collapsed": false
   },
   "outputs": [
    {
     "data": {
      "text/plain": [
       "([mean: 0.74362, std: 0.02156, params: {'subsample': 0.6},\n",
       "  mean: 0.74710, std: 0.01966, params: {'subsample': 0.7},\n",
       "  mean: 0.74643, std: 0.02114, params: {'subsample': 0.75},\n",
       "  mean: 0.74703, std: 0.02129, params: {'subsample': 0.8},\n",
       "  mean: 0.74506, std: 0.01910, params: {'subsample': 0.85},\n",
       "  mean: 0.74480, std: 0.02224, params: {'subsample': 0.9}],\n",
       " {'subsample': 0.7},\n",
       " 0.74710492329390843)"
      ]
     },
     "execution_count": 37,
     "metadata": {},
     "output_type": "execute_result"
    }
   ],
   "source": [
    "param_test5 = {'subsample':[0.6,0.7,0.75,0.8,0.85,0.9]}\n",
    "gsearch5 = GridSearchCV(estimator = GradientBoostingClassifier(learning_rate=0.1, n_estimators=70,max_depth=5,min_samples_split=90, min_samples_leaf=5, random_state=10,max_features=5),\n",
    "param_grid = param_test5, scoring='roc_auc',n_jobs=4,iid=False, cv=5)\n",
    "gsearch5.fit(X_train_ohe,y_train)\n",
    "gsearch5.grid_scores_, gsearch5.best_params_, gsearch5.best_score_"
   ]
  },
  {
   "cell_type": "code",
   "execution_count": 52,
   "metadata": {
    "collapsed": false
   },
   "outputs": [
    {
     "name": "stdout",
     "output_type": "stream",
     "text": [
      "\n",
      "Model Report\n",
      "Accuracy : 0.7487\n",
      "AUC Score (Train): 0.792824\n",
      "Confusion matrix: \n",
      "[[2716  294]\n",
      " [ 826  620]]\n",
      "CV Score : Mean - 0.7475524 | Std - 0.018873 | Min - 0.7224132 | Max - 0.7777151\n"
     ]
    },
    {
     "data": {
      "image/png": "[encoded data removed]",
      "text/plain": [
       "<matplotlib.figure.Figure at 0x117e0e5c0>"
      ]
     },
     "metadata": {},
     "output_type": "display_data"
    }
   ],
   "source": [
    "gbm_tuned_1 = GradientBoostingClassifier(learning_rate=0.05, n_estimators=120,max_depth=5, min_samples_split=90, min_samples_leaf=5, subsample=0.7, random_state=10, max_features=5)\n",
    "modelfit(gbm_tuned_1, X_train_ohe, X_train_ohe.columns, y_train)"
   ]
  }
 ],
 "metadata": {
  "kernelspec": {
   "display_name": "Python 3",
   "language": "python",
   "name": "python3"
  },
  "language_info": {
   "codemirror_mode": {
    "name": "ipython",
    "version": 3.0
   },
   "file_extension": ".py",
   "mimetype": "text/x-python",
   "name": "python",
   "nbconvert_exporter": "python",
   "pygments_lexer": "ipython3",
   "version": "3.5.2"
  }
 },
 "nbformat": 4,
 "nbformat_minor": 0
}