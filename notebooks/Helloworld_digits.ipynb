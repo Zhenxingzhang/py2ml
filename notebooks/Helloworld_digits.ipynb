{
 "cells": [
  {
   "cell_type": "code",
   "execution_count": 88,
   "metadata": {
    "collapsed": false
   },
   "outputs": [],
   "source": [
    "from sklearn import datasets\n",
    "import matplotlib.pyplot as plt\n",
    "from sklearn.cross_validation import train_test_split\n",
    "from sklearn.metrics import accuracy_score, confusion_matrix\n",
    "from sklearn.metrics import roc_curve, auc\n",
    "import pandas as pd\n",
    "import numpy as np\n",
    "%matplotlib inline  "
   ]
  },
  {
   "cell_type": "code",
   "execution_count": 43,
   "metadata": {
    "collapsed": false
   },
   "outputs": [
    {
     "data": {
      "text/plain": [
       "array([0, 1, 2, ..., 8, 9, 8])"
      ]
     },
     "execution_count": 43,
     "metadata": {},
     "output_type": "execute_result"
    }
   ],
   "source": [
    "digits = datasets.load_digits()\n",
    "digits.data\n",
    "digits.target"
   ]
  },
  {
   "cell_type": "code",
   "execution_count": 162,
   "metadata": {
    "collapsed": false
   },
   "outputs": [
    {
     "data": {
      "image/png": "[encoded data removed]",
      "text/plain": [
       "<matplotlib.figure.Figure at 0x108833898>"
      ]
     },
     "metadata": {},
     "output_type": "display_data"
    }
   ],
   "source": [
    "def display(data_array):\n",
    "    plt.figure(figsize = (2, 2))\n",
    "    plt.imshow(data_array, interpolation='none', cmap=plt.cm.seismic)\n",
    "    plt.axis('off')\n",
    "    plt.gray()\n",
    "    plt.show()\n",
    "\n",
    "display(digits.images[0])"
   ]
  },
  {
   "cell_type": "code",
   "execution_count": 72,
   "metadata": {
    "collapsed": false
   },
   "outputs": [],
   "source": [
    "digits_data_df = pd.DataFrame(digits.data)\n",
    "digits_target_df= pd.DataFrame(digits.target).rename(columns={0:'target'})\n",
    "\n",
    "digits_df = pd.concat([digits_data_df, digits_target_df], axis = 1)\n",
    "# digits_train, digit_test = train_test_split\n",
    "digits_df['label'] = digits_df.apply(lambda row: 1 if row['target'] == 0 else 0, axis = 1)\n",
    "\n",
    "zero_train, zero_test = train_test_split(digits_df, test_size=0.3)"
   ]
  },
  {
   "cell_type": "code",
   "execution_count": 165,
   "metadata": {
    "collapsed": false
   },
   "outputs": [
    {
     "data": {
      "image/png": "[encoded data removed]",
      "text/plain": [
       "<matplotlib.figure.Figure at 0x108de7358>"
      ]
     },
     "metadata": {},
     "output_type": "display_data"
    }
   ],
   "source": [
    "from sklearn.linear_model import LogisticRegression\n",
    "clf = LogisticRegression()\n",
    "clf.fit(zero_train.iloc[:, 0:64], zero_train['label'])\n",
    "predict = clf.predict(zero_test.iloc[:,0:64])\n",
    "predict_score = clf.predict_proba(zero_test.iloc[:,0:64])[:,1]\n",
    "zero_test.shape, predict_score\n",
    "\n",
    "# sorted(range(len(predict_score)), key=lambda k: predict_score[k])\n",
    "sorted_idx = [(i[0], i[1]) for i in sorted(enumerate(predict_score), key=lambda x:x[1], reverse=True)]\n",
    "display(digits.images[zero_test.index[sorted_idx[0][0]]])"
   ]
  },
  {
   "cell_type": "code",
   "execution_count": 86,
   "metadata": {
    "collapsed": false
   },
   "outputs": [
    {
     "name": "stdout",
     "output_type": "stream",
     "text": [
      "1.0\n"
     ]
    },
    {
     "data": {
      "text/plain": [
       "array([[486,   0],\n",
       "       [  0,  54]])"
      ]
     },
     "execution_count": 86,
     "metadata": {},
     "output_type": "execute_result"
    }
   ],
   "source": [
    "accuracy = accuracy_score(zero_test['label'], predict)\n",
    "print(accuracy)\n",
    "confusion_matrix(zero_test['label'], predict)"
   ]
  },
  {
   "cell_type": "code",
   "execution_count": 171,
   "metadata": {
    "collapsed": false
   },
   "outputs": [
    {
     "name": "stdout",
     "output_type": "stream",
     "text": [
      "[ 0.          0.          0.          0.          0.14197531  0.14609053\n",
      "  0.24074074  0.24485597  0.25514403  0.26337449  0.2654321   0.27366255\n",
      "  0.27572016  0.27983539  0.281893    0.28806584  0.29012346  0.2962963\n",
      "  0.29835391  0.30246914  0.30452675  0.33950617  1.        ]\n",
      "[ 0.01851852  0.25925926  0.2962963   1.          1.          1.          1.\n",
      "  1.          1.          1.          1.          1.          1.          1.\n",
      "  1.          1.          1.          1.          1.          1.          1.\n",
      "  1.          1.        ]\n",
      "0.575797384314\n"
     ]
    }
   ],
   "source": [
    "fpr, tpr, thresholds = roc_curve(zero_test['label'], predict_score)\n",
    "roc_auc = auc(fpr, tpr)\n",
    "# roc_auc\n",
    "print(fpr)\n",
    "print(tpr)\n",
    "print(thresholds[3])"
   ]
  },
  {
   "cell_type": "code",
   "execution_count": 106,
   "metadata": {
    "collapsed": false
   },
   "outputs": [
    {
     "data": {
      "image/png": "[encoded data removed]",
      "text/plain": [
       "<matplotlib.figure.Figure at 0x108956518>"
      ]
     },
     "metadata": {},
     "output_type": "display_data"
    }
   ],
   "source": [
    "# Plot of a ROC curve for a specific class\n",
    "plt.figure()\n",
    "plt.plot(fpr, tpr, label='ROC curve (area = %0.2f)' % roc_auc)\n",
    "plt.plot([0, 1], [0, 1], 'k--')\n",
    "plt.xlim([0.0, 1.0])\n",
    "plt.ylim([0.0, 1.05])\n",
    "plt.xlabel('False Positive Rate')\n",
    "plt.ylabel('True Positive Rate')\n",
    "plt.title('Receiver operating characteristic example')\n",
    "plt.legend(loc=\"lower right\")\n",
    "plt.show()"
   ]
  },
  {
   "cell_type": "code",
   "execution_count": 120,
   "metadata": {
    "collapsed": false
   },
   "outputs": [
    {
     "data": {
      "image/png": "[encoded data removed]",
      "text/plain": [
       "<matplotlib.figure.Figure at 0x108ce9e10>"
      ]
     },
     "metadata": {},
     "output_type": "display_data"
    }
   ],
   "source": [
    "# visualize weights\n",
    "weights_2d = clf.coef_.reshape((8, 8))\n",
    "display(weights_2d)"
   ]
  },
  {
   "cell_type": "markdown",
   "metadata": {},
   "source": [
    "fake_zero = [\n",
    "            0,0,0,0,0,0,0,0,\n",
    "            0,0,1,1,1,1,0,0,\n",
    "            0,0,1,0,0,1,0,0,\n",
    "            0,0,1,0,0,1,0,0,\n",
    "            0,0,1,0,0,1,0,0,\n",
    "            0,0,1,0,0,1,0,0,\n",
    "            0,0,1,1,1,1,0,0,\n",
    "            0,0,0,0,0,0,0,0,]\n",
    "\n",
    "clf.predict_proba([fake_zero])"
   ]
  }
 ],
 "metadata": {
  "kernelspec": {
   "display_name": "Python 3",
   "language": "python",
   "name": "python3"
  },
  "language_info": {
   "codemirror_mode": {
    "name": "ipython",
    "version": 3
   },
   "file_extension": ".py",
   "mimetype": "text/x-python",
   "name": "python",
   "nbconvert_exporter": "python",
   "pygments_lexer": "ipython3",
   "version": "3.5.2"
  }
 },
 "nbformat": 4,
 "nbformat_minor": 0
}
